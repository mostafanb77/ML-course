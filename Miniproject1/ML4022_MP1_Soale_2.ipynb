{
  "nbformat": 4,
  "nbformat_minor": 0,
  "metadata": {
    "colab": {
      "provenance": [],
      "collapsed_sections": [
        "V2-TDc8yHZfU",
        "u98Kg7eZHfe0",
        "0ZqwkY-gHlPV",
        "B4LCnuY9OzGq",
        "pYdTrOZrmvj6"
      ]
    },
    "kernelspec": {
      "name": "python3",
      "display_name": "Python 3"
    },
    "language_info": {
      "name": "python"
    }
  },
  "cells": [
    {
      "cell_type": "markdown",
      "source": [
        "# Loading the Data"
      ],
      "metadata": {
        "id": "V2-TDc8yHZfU"
      }
    },
    {
      "cell_type": "code",
      "execution_count": null,
      "metadata": {
        "id": "abhD_j7K5YEf"
      },
      "outputs": [],
      "source": [
        "import pandas as pd\n",
        "import numpy as np"
      ]
    },
    {
      "cell_type": "code",
      "source": [
        "!gdown 1Ekttn0UBuUPhDGi3VU-egdG38hrwLNeB\n",
        "!gdown 1Vt7Stmj4JKn_Y58R1TNAKtOrFDn9D-n2\n",
        "!gdown 1VZch6GVFaCLBP6NBK0ud3gP5zJcmiM83\n",
        "!gdown 1w0AmBAe_0pxlT1Jnf1vu6JFdTg5pFQhI"
      ],
      "metadata": {
        "colab": {
          "base_uri": "https://localhost:8080/"
        },
        "id": "AdvW_u5sq9az",
        "outputId": "3f7f8c7a-0fb8-4fb5-86a7-1f18fe89cf71"
      },
      "execution_count": null,
      "outputs": [
        {
          "output_type": "stream",
          "name": "stdout",
          "text": [
            "Downloading...\n",
            "From: https://drive.google.com/uc?id=1Ekttn0UBuUPhDGi3VU-egdG38hrwLNeB\n",
            "To: /content/X097_FE_time.csv\n",
            "100% 3.17M/3.17M [00:00<00:00, 27.3MB/s]\n",
            "Downloading...\n",
            "From: https://drive.google.com/uc?id=1Vt7Stmj4JKn_Y58R1TNAKtOrFDn9D-n2\n",
            "To: /content/X097_DE_time.csv\n",
            "100% 3.22M/3.22M [00:00<00:00, 26.7MB/s]\n",
            "Downloading...\n",
            "From: https://drive.google.com/uc?id=1VZch6GVFaCLBP6NBK0ud3gP5zJcmiM83\n",
            "To: /content/X105_FE_time.csv\n",
            "100% 1.58M/1.58M [00:00<00:00, 24.7MB/s]\n",
            "Downloading...\n",
            "From: https://drive.google.com/uc?id=1w0AmBAe_0pxlT1Jnf1vu6JFdTg5pFQhI\n",
            "To: /content/X105_DE_time.csv\n",
            "100% 1.62M/1.62M [00:00<00:00, 16.7MB/s]\n"
          ]
        }
      ]
    },
    {
      "cell_type": "markdown",
      "source": [
        "97 = Normal\n",
        "105 = Fault"
      ],
      "metadata": {
        "id": "qG45PG76ilYS"
      }
    },
    {
      "cell_type": "code",
      "source": [
        "#97 = normal , 105 = fault\n",
        "X097_DE_time = pd.read_csv('X097_DE_time.csv',header=None).values\n",
        "X105_DE_time = pd.read_csv('X105_DE_time.csv',header=None).values\n",
        "X097_FE_time = pd.read_csv('X097_FE_time.csv',header=None).values\n",
        "X105_FE_time = pd.read_csv('X105_FE_time.csv',header=None).values"
      ],
      "metadata": {
        "id": "lSVnXzZyWE3a"
      },
      "execution_count": null,
      "outputs": []
    },
    {
      "cell_type": "markdown",
      "source": [
        "# Creating the Matrix"
      ],
      "metadata": {
        "id": "u98Kg7eZHfe0"
      }
    },
    {
      "cell_type": "code",
      "source": [
        "# Define constants\n",
        "M = 100  # Number of samples per class\n",
        "N = 200  # Length of each sample\n",
        "total_samples = M * 2  # Total number of samples (2 classes)\n",
        "\n",
        "# Randomly select starting points for Normal DE data\n",
        "healthy_starting_points = np.random.randint(0, len(X097_DE_time) - N, size=M)\n",
        "\n",
        "# Randomly select starting points for fault DE data\n",
        "defective_starting_points = np.random.randint(0, len(X105_DE_time) - N, size=M)\n",
        "\n",
        "# Initialize empty arrays to store selected samples and labels\n",
        "selected_samples = np.zeros((total_samples, N))\n",
        "labels = np.zeros(total_samples)\n",
        "\n",
        "# Fill in the selected samples and labels for healthy DE\n",
        "for i, start_point in enumerate(healthy_starting_points):\n",
        "    selected_samples[i] = np.squeeze( X097_DE_time[start_point:start_point + N])\n",
        "    labels[i] = 0  # Label 0 for normal DE\n",
        "\n",
        "# Fill in the selected samples and labels for fault DE\n",
        "for i, start_point in enumerate(defective_starting_points):\n",
        "    selected_samples[i + M] = np.squeeze(X105_DE_time[start_point:start_point + N])\n",
        "    labels[i + M] = 1  # Label 1 for Falut DE\n",
        "\n",
        "\n",
        "print(selected_samples.shape)\n",
        "print(labels.shape)"
      ],
      "metadata": {
        "colab": {
          "base_uri": "https://localhost:8080/"
        },
        "id": "rs-JHIlbWjY4",
        "outputId": "2af5d190-9cd1-42c8-c47b-18ea1ea3dea8"
      },
      "execution_count": null,
      "outputs": [
        {
          "output_type": "stream",
          "name": "stdout",
          "text": [
            "(200, 200)\n",
            "(200,)\n"
          ]
        }
      ]
    },
    {
      "cell_type": "markdown",
      "source": [
        "# Feature Extraction,Shuffling and Normalization"
      ],
      "metadata": {
        "id": "0ZqwkY-gHlPV"
      }
    },
    {
      "cell_type": "code",
      "source": [
        "\n",
        "# Feature extraction methods\n",
        "def shape_factor(data):\n",
        "    return np.sqrt(np.mean(np.square(data))) / np.mean(np.abs(data))\n",
        "\n",
        "def impact_factor(data):\n",
        "    return np.max(data)/ np.mean(np.abs(data))\n",
        "\n",
        "def Crest_Factor(data):\n",
        "    return  np.max(data) / np.sqrt(np.mean(np.square(data)))\n",
        "\n",
        "def absolute_mean(data):\n",
        "    return np.mean(np.abs(data))\n",
        "\n",
        "def root_mean_square(data):\n",
        "    return np.sqrt(np.mean(np.square(data)))\n",
        "\n",
        "def impulse_factor(data):\n",
        "    return np.max(np.abs(data)) / np.mean(np.abs(data))\n",
        "\n",
        "def standard_deviation(data):\n",
        "    return np.std(data)\n",
        "\n",
        "def impact_factor(data):\n",
        "    return np.max(np.abs(data)) / np.mean(np.abs(data))\n",
        "\n",
        "\n",
        "# Initialize empty array to store extracted features\n",
        "num_features = 9\n",
        "num_samples, sample_length = selected_samples.shape\n",
        "extracted_features = np.zeros((num_samples, num_features))\n",
        "\n",
        "# Extract features for each sample\n",
        "for i in range(num_samples):\n",
        "    sample = selected_samples[i]\n",
        "    extracted_features[i, 0] = shape_factor(sample)\n",
        "    extracted_features[i, 1] = impact_factor(sample)\n",
        "    extracted_features[i, 2] = Crest_Factor(sample)\n",
        "    extracted_features[i, 3] = np.mean(sample)\n",
        "    extracted_features[i, 4] = absolute_mean(sample)\n",
        "    extracted_features[i, 5] = root_mean_square(sample)\n",
        "    extracted_features[i, 6] = impulse_factor(sample)\n",
        "    extracted_features[i, 7] = standard_deviation(sample)\n",
        "    extracted_features[i, 8] = impact_factor(sample)\n",
        "\n",
        "# Now we have a new dataset with extracted features\n",
        "extracted_features\n"
      ],
      "metadata": {
        "id": "k9j9KF-QbccQ",
        "colab": {
          "base_uri": "https://localhost:8080/"
        },
        "outputId": "522e2925-d4cb-4e3f-f5e3-a68de3a9b03f"
      },
      "execution_count": null,
      "outputs": [
        {
          "output_type": "execute_result",
          "data": {
            "text/plain": [
              "array([[1.2779319 , 3.99390322, 3.12528642, ..., 3.99390322, 0.0511341 ,\n",
              "        3.99390322],\n",
              "       [1.21470676, 2.68167271, 2.20767086, ..., 2.68167271, 0.08234357,\n",
              "        2.68167271],\n",
              "       [1.22174139, 3.02407887, 2.0743224 , ..., 3.02407887, 0.08049215,\n",
              "        3.02407887],\n",
              "       ...,\n",
              "       [1.42502481, 6.48691633, 4.55214273, ..., 6.48691633, 0.29373132,\n",
              "        6.48691633],\n",
              "       [1.35445977, 4.59945937, 3.39578885, ..., 4.59945937, 0.29290667,\n",
              "        4.59945937],\n",
              "       [1.35292268, 4.30261797, 2.65395995, ..., 4.30261797, 0.28748548,\n",
              "        4.30261797]])"
            ]
          },
          "metadata": {},
          "execution_count": 6
        }
      ]
    },
    {
      "cell_type": "code",
      "source": [
        "# Combine features and labels\n",
        "data_with_labels = np.column_stack((extracted_features, labels))\n",
        "print(data_with_labels.shape)\n",
        "# Shuffle the data\n",
        "np.random.shuffle(data_with_labels)\n",
        "data_with_labels"
      ],
      "metadata": {
        "id": "Y1xzD_U4r7kW",
        "colab": {
          "base_uri": "https://localhost:8080/"
        },
        "outputId": "535d8a23-a704-4eef-a1ba-79675f30cb1a"
      },
      "execution_count": null,
      "outputs": [
        {
          "output_type": "stream",
          "name": "stdout",
          "text": [
            "(200, 10)\n"
          ]
        },
        {
          "output_type": "execute_result",
          "data": {
            "text/plain": [
              "array([[1.35169662, 5.89001373, 4.35749682, ..., 0.27870677, 5.89001373,\n",
              "        1.        ],\n",
              "       [1.46229815, 6.78567868, 4.64042076, ..., 0.30938286, 6.78567868,\n",
              "        1.        ],\n",
              "       [1.2661485 , 2.98021595, 2.35376495, ..., 0.05432436, 2.98021595,\n",
              "        0.        ],\n",
              "       ...,\n",
              "       [1.41566487, 5.78591659, 4.0870666 , ..., 0.25509884, 5.78591659,\n",
              "        1.        ],\n",
              "       [1.19317073, 2.44071645, 2.04557184, ..., 0.07809902, 2.44071645,\n",
              "        0.        ],\n",
              "       [1.22405471, 3.37811899, 2.75977778, ..., 0.06971364, 3.37811899,\n",
              "        0.        ]])"
            ]
          },
          "metadata": {},
          "execution_count": 7
        }
      ]
    },
    {
      "cell_type": "code",
      "source": [
        "# Define the division ratio for training and evaluation sets\n",
        "division_ratio = 0.8  # 80% for training, 20% for evaluation\n",
        "\n",
        "# Calculate the split index\n",
        "split_index = int(division_ratio * num_samples)\n",
        "\n",
        "# Split the data into training and evaluation sets\n",
        "training_data = data_with_labels[:split_index]\n",
        "evaluation_data = data_with_labels[split_index:]\n",
        "\n",
        "# Separate features and labels for training\n",
        "X_train = training_data[:, :-1]  # Features for training\n",
        "y_train = training_data[:, -1]   # Labels for training\n",
        "\n",
        "# Separate features and labels for evaluation\n",
        "X_eval = evaluation_data[:, :-1]  # Features for evaluation\n",
        "y_eval = evaluation_data[:, -1]   # Labels for evaluation"
      ],
      "metadata": {
        "id": "4RqpSHhVpK0F"
      },
      "execution_count": null,
      "outputs": []
    },
    {
      "cell_type": "code",
      "source": [
        "# Calculate mean and standard deviation of each feature\n",
        "mean = np.mean(X_train, axis=0)\n",
        "std = np.std(X_train, axis=0)\n",
        "\n",
        "# Perform standardization\n",
        "X_train_standardized = (X_train - mean) / std"
      ],
      "metadata": {
        "id": "p9hmfPYgM_nB"
      },
      "execution_count": null,
      "outputs": []
    },
    {
      "cell_type": "markdown",
      "source": [
        "# Classification from Scratch"
      ],
      "metadata": {
        "id": "B4LCnuY9OzGq"
      }
    },
    {
      "cell_type": "code",
      "source": [
        "import matplotlib.pyplot as plt\n",
        "\n",
        "# data\n",
        "X = X_train_standardized\n",
        "y = y_train\n",
        "\n",
        "# Initialize parameters\n",
        "np.random.seed(0)\n",
        "W = np.random.randn(9)\n",
        "b = 0\n",
        "\n",
        "# Define logistic function\n",
        "def sigmoid(z):\n",
        "    return 1 / (1 + np.exp(-z))\n",
        "\n",
        "# Forward propagation\n",
        "def forward_propagation(X, W, b):\n",
        "    z = np.dot(X, W) + b\n",
        "    return sigmoid(z)\n",
        "\n",
        "# Loss function (binary cross-entropy)\n",
        "def binary_cross_entropy(y_pred, y_true):\n",
        "    epsilon = 1e-15\n",
        "    return -np.mean(y_true * np.log(y_pred + epsilon) + (1 - y_true) * np.log(1 - y_pred + epsilon))\n",
        "\n",
        "# Gradient descent\n",
        "learning_rate = 0.01\n",
        "num_iterations = 10000\n",
        "losses = []\n",
        "\n",
        "for i in range(num_iterations):\n",
        "    # Forward propagation\n",
        "    y_pred = forward_propagation(X, W, b)\n",
        "\n",
        "    # Compute loss\n",
        "    loss = binary_cross_entropy(y_pred, y)\n",
        "    losses.append(loss)\n",
        "\n",
        "    # Backward propagation\n",
        "    dz = y_pred - y\n",
        "    dW = np.dot(X.T, dz) / len(X)\n",
        "    db = np.mean(dz)\n",
        "\n",
        "    # Update parameters\n",
        "    W -= learning_rate * dW\n",
        "    b -= learning_rate * db\n",
        "\n",
        "# Plot loss function\n",
        "plt.plot(losses)\n",
        "plt.xlabel('Iteration')\n",
        "plt.ylabel('Loss')\n",
        "plt.title('Loss Function')\n",
        "plt.show()"
      ],
      "metadata": {
        "colab": {
          "base_uri": "https://localhost:8080/",
          "height": 472
        },
        "id": "PTtNoKufNMi4",
        "outputId": "4b83033f-17d3-40fb-bba6-4d5ee55e9a60"
      },
      "execution_count": null,
      "outputs": [
        {
          "output_type": "display_data",
          "data": {
            "text/plain": [
              "<Figure size 640x480 with 1 Axes>"
            ],
            "image/png": "[encoded data removed]"
          },
          "metadata": {}
        }
      ]
    },
    {
      "cell_type": "code",
      "source": [
        "# Evaluate model on test data\n",
        "\n",
        "\n",
        "X_test = X_eval\n",
        "y_test = y_eval\n",
        "\n",
        "# Forward propagation to get predictions on test data\n",
        "y_pred_test = forward_propagation(X_test, W, b)\n",
        "\n",
        "# Convert probabilities to binary predictions (0 or 1)\n",
        "y_pred_binary = np.where(y_pred_test >= 0.5, 1, 0)\n",
        "\n",
        "# Calculate accuracy\n",
        "accuracy = np.mean(y_pred_binary == y_test)\n",
        "\n",
        "# Calculate precision, recall, and F1-score\n",
        "TP = np.sum((y_pred_binary == 1) & (y_test == 1))\n",
        "FP = np.sum((y_pred_binary == 1) & (y_test == 0))\n",
        "FN = np.sum((y_pred_binary == 0) & (y_test == 1))\n",
        "\n",
        "precision = TP / (TP + FP)\n",
        "recall = TP / (TP + FN)\n",
        "f1_score = 2 * precision * recall / (precision + recall)\n",
        "\n",
        "print(\"Accuracy:\", accuracy)\n",
        "print(\"Precision:\", precision)\n",
        "print(\"Recall:\", recall)\n",
        "print(\"F1-score:\", f1_score)"
      ],
      "metadata": {
        "colab": {
          "base_uri": "https://localhost:8080/"
        },
        "id": "q4lfl6a1Qie1",
        "outputId": "7a31e98d-297f-47c0-9881-26368cb8693a"
      },
      "execution_count": null,
      "outputs": [
        {
          "output_type": "stream",
          "name": "stdout",
          "text": [
            "Accuracy: 0.475\n",
            "Precision: 0.475\n",
            "Recall: 1.0\n",
            "F1-score: 0.6440677966101694\n"
          ]
        }
      ]
    },
    {
      "cell_type": "markdown",
      "source": [
        "# Sklearn Model"
      ],
      "metadata": {
        "id": "pYdTrOZrmvj6"
      }
    },
    {
      "cell_type": "code",
      "source": [
        "print(X_train.shape)\n",
        "print(X_test.shape)\n",
        "print(y_test.shape)\n",
        "print(y_train.shape)"
      ],
      "metadata": {
        "colab": {
          "base_uri": "https://localhost:8080/"
        },
        "id": "29N2-MZTnRkn",
        "outputId": "8d07fcdf-3a04-4053-b0de-9575b7a8af11"
      },
      "execution_count": null,
      "outputs": [
        {
          "output_type": "stream",
          "name": "stdout",
          "text": [
            "(160, 9)\n",
            "(40, 9)\n",
            "(40,)\n",
            "(160,)\n"
          ]
        }
      ]
    },
    {
      "cell_type": "code",
      "source": [
        "from sklearn.linear_model import LogisticRegression\n",
        "from sklearn.metrics import accuracy_score, precision_score, recall_score, f1_score\n",
        "\n",
        "\n",
        "# data\n",
        "#X_train = X_train_standardized\n",
        "#X_test = X_eval\n",
        "#y_test = y_eval\n",
        "#y_train\n",
        "\n",
        "\n",
        "# Train logistic regression model\n",
        "model = LogisticRegression()\n",
        "model.fit(X_train, y_train)\n",
        "\n",
        "# Predict binary predictions on test data\n",
        "y_pred_binary = model.predict(X_test)\n",
        "\n",
        "# Calculate performance metrics\n",
        "accuracy = accuracy_score(y_test, y_pred_binary)\n",
        "precision = precision_score(y_test, y_pred_binary)\n",
        "recall = recall_score(y_test, y_pred_binary)\n",
        "f1 = f1_score(y_test, y_pred_binary)\n",
        "\n",
        "print(\"Performance Metrics:\")\n",
        "print(\"Accuracy:\", accuracy)\n",
        "print(\"Precision:\", precision)\n",
        "print(\"Recall:\", recall)\n",
        "print(\"F1-score:\", f1)"
      ],
      "metadata": {
        "colab": {
          "base_uri": "https://localhost:8080/"
        },
        "id": "UDfR9pmXm0Fy",
        "outputId": "e8099c8e-ade3-4318-b5b0-8ba9189be775"
      },
      "execution_count": null,
      "outputs": [
        {
          "output_type": "stream",
          "name": "stdout",
          "text": [
            "Performance Metrics:\n",
            "Accuracy: 0.975\n",
            "Precision: 1.0\n",
            "Recall: 0.9473684210526315\n",
            "F1-score: 0.972972972972973\n"
          ]
        }
      ]
    },
    {
      "cell_type": "code",
      "source": [
        "from sklearn.linear_model import SGDClassifier\n",
        "import numpy as np\n",
        "import matplotlib.pyplot as plt\n",
        "\n",
        "# Initialize SGDClassifier with 'log' loss\n",
        "clf = SGDClassifier(loss='log_loss', max_iter=10000, tol=1e-3)\n",
        "\n",
        "# Train the classifier\n",
        "loss_values = []\n",
        "for i in range(10000):  # Run for 10 epochs\n",
        "    clf.partial_fit(X_train, y_train, classes=[0, 1])  # Specify the classes explicitly\n",
        "    loss_values.append(clf.score(X_train, y_train))  # Compute the loss using the score method\n",
        "\n",
        "# Plot the loss function values over iterations\n",
        "plt.plot(loss_values)\n",
        "plt.xlabel('Epoch')\n",
        "plt.ylabel('Loss')\n",
        "plt.title('Training Loss over Iterations')\n",
        "plt.show()\n"
      ],
      "metadata": {
        "colab": {
          "base_uri": "https://localhost:8080/",
          "height": 472
        },
        "id": "OnGVpUfF0_iX",
        "outputId": "ab6124b9-1633-446c-a3d3-158f677242f2"
      },
      "execution_count": null,
      "outputs": [
        {
          "output_type": "display_data",
          "data": {
            "text/plain": [
              "<Figure size 640x480 with 1 Axes>"
            ],
            "image/png": "[encoded data removed]"
          },
          "metadata": {}
        }
      ]
    }
  ]
}